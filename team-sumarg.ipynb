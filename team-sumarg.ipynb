{
 "cells": [
  {
   "cell_type": "code",
   "execution_count": 1,
   "id": "b652b7ec",
   "metadata": {
    "_cell_guid": "b1076dfc-b9ad-4769-8c92-a6c4dae69d19",
    "_uuid": "8f2839f25d086af736a60e9eeb907d3b93b6e0e5",
    "execution": {
     "iopub.execute_input": "2023-03-13T04:29:10.206954Z",
     "iopub.status.busy": "2023-03-13T04:29:10.206400Z",
     "iopub.status.idle": "2023-03-13T04:29:10.219537Z",
     "shell.execute_reply": "2023-03-13T04:29:10.218447Z"
    },
    "papermill": {
     "duration": 0.022597,
     "end_time": "2023-03-13T04:29:10.221909",
     "exception": false,
     "start_time": "2023-03-13T04:29:10.199312",
     "status": "completed"
    },
    "tags": []
   },
   "outputs": [],
   "source": [
    "# This Python 3 environment comes with many helpful analytics libraries installed\n",
    "# It is defined by the kaggle/python Docker image: https://github.com/kaggle/docker-python\n",
    "# For example, here's several helpful packages to load\n",
    "\n",
    "import numpy as np # linear algebra\n",
    "import pandas as pd # data processing, CSV file I/O (e.g. pd.read_csv)\n",
    "\n",
    "# Input data files are available in the read-only \"../input/\" directory\n",
    "# For example, running this (by clicking run or pressing Shift+Enter) will list all files under the input directory\n",
    "\n",
    "import os\n",
    "\n",
    "base_dir = \"/kaggle/input/amp-parkinsons-disease-progression-prediction\"\n",
    "\n",
    "# You can write up to 20GB to the current directory (/kaggle/working/) that gets preserved as output when you create a version using \"Save & Run All\" \n",
    "# You can also write temporary files to /kaggle/temp/, but they won't be saved outside of the current session"
   ]
  },
  {
   "cell_type": "code",
   "execution_count": 2,
   "id": "f4fd04d6",
   "metadata": {
    "execution": {
     "iopub.execute_input": "2023-03-13T04:29:10.230662Z",
     "iopub.status.busy": "2023-03-13T04:29:10.230214Z",
     "iopub.status.idle": "2023-03-13T04:29:11.611219Z",
     "shell.execute_reply": "2023-03-13T04:29:11.609923Z"
    },
    "papermill": {
     "duration": 1.388854,
     "end_time": "2023-03-13T04:29:11.613776",
     "exception": false,
     "start_time": "2023-03-13T04:29:10.224922",
     "status": "completed"
    },
    "tags": []
   },
   "outputs": [
    {
     "data": {
      "text/html": [
       "<div>\n",
       "<style scoped>\n",
       "    .dataframe tbody tr th:only-of-type {\n",
       "        vertical-align: middle;\n",
       "    }\n",
       "\n",
       "    .dataframe tbody tr th {\n",
       "        vertical-align: top;\n",
       "    }\n",
       "\n",
       "    .dataframe thead th {\n",
       "        text-align: right;\n",
       "    }\n",
       "</style>\n",
       "<table border=\"1\" class=\"dataframe\">\n",
       "  <thead>\n",
       "    <tr style=\"text-align: right;\">\n",
       "      <th></th>\n",
       "      <th>visit_id</th>\n",
       "      <th>visit_month</th>\n",
       "      <th>patient_id</th>\n",
       "      <th>UniProt</th>\n",
       "      <th>Peptide</th>\n",
       "      <th>PeptideAbundance</th>\n",
       "    </tr>\n",
       "  </thead>\n",
       "  <tbody>\n",
       "    <tr>\n",
       "      <th>0</th>\n",
       "      <td>55_0</td>\n",
       "      <td>0</td>\n",
       "      <td>55</td>\n",
       "      <td>O00391</td>\n",
       "      <td>NEQEQPLGQWHLS</td>\n",
       "      <td>11254.30</td>\n",
       "    </tr>\n",
       "    <tr>\n",
       "      <th>1</th>\n",
       "      <td>55_0</td>\n",
       "      <td>0</td>\n",
       "      <td>55</td>\n",
       "      <td>O00533</td>\n",
       "      <td>GNPEPTFSWTK</td>\n",
       "      <td>102060.00</td>\n",
       "    </tr>\n",
       "    <tr>\n",
       "      <th>2</th>\n",
       "      <td>55_0</td>\n",
       "      <td>0</td>\n",
       "      <td>55</td>\n",
       "      <td>O00533</td>\n",
       "      <td>IEIPSSVQQVPTIIK</td>\n",
       "      <td>174185.00</td>\n",
       "    </tr>\n",
       "    <tr>\n",
       "      <th>3</th>\n",
       "      <td>55_0</td>\n",
       "      <td>0</td>\n",
       "      <td>55</td>\n",
       "      <td>O00533</td>\n",
       "      <td>KPQSAVYSTGSNGILLC(UniMod_4)EAEGEPQPTIK</td>\n",
       "      <td>27278.90</td>\n",
       "    </tr>\n",
       "    <tr>\n",
       "      <th>4</th>\n",
       "      <td>55_0</td>\n",
       "      <td>0</td>\n",
       "      <td>55</td>\n",
       "      <td>O00533</td>\n",
       "      <td>SMEQNGPGLEYR</td>\n",
       "      <td>30838.70</td>\n",
       "    </tr>\n",
       "    <tr>\n",
       "      <th>...</th>\n",
       "      <td>...</td>\n",
       "      <td>...</td>\n",
       "      <td>...</td>\n",
       "      <td>...</td>\n",
       "      <td>...</td>\n",
       "      <td>...</td>\n",
       "    </tr>\n",
       "    <tr>\n",
       "      <th>981829</th>\n",
       "      <td>58648_108</td>\n",
       "      <td>108</td>\n",
       "      <td>58648</td>\n",
       "      <td>Q9UHG2</td>\n",
       "      <td>ILAGSADSEGVAAPR</td>\n",
       "      <td>202820.00</td>\n",
       "    </tr>\n",
       "    <tr>\n",
       "      <th>981830</th>\n",
       "      <td>58648_108</td>\n",
       "      <td>108</td>\n",
       "      <td>58648</td>\n",
       "      <td>Q9UKV8</td>\n",
       "      <td>SGNIPAGTTVDTK</td>\n",
       "      <td>105830.00</td>\n",
       "    </tr>\n",
       "    <tr>\n",
       "      <th>981831</th>\n",
       "      <td>58648_108</td>\n",
       "      <td>108</td>\n",
       "      <td>58648</td>\n",
       "      <td>Q9Y646</td>\n",
       "      <td>LALLVDTVGPR</td>\n",
       "      <td>21257.60</td>\n",
       "    </tr>\n",
       "    <tr>\n",
       "      <th>981832</th>\n",
       "      <td>58648_108</td>\n",
       "      <td>108</td>\n",
       "      <td>58648</td>\n",
       "      <td>Q9Y6R7</td>\n",
       "      <td>AGC(UniMod_4)VAESTAVC(UniMod_4)R</td>\n",
       "      <td>5127.26</td>\n",
       "    </tr>\n",
       "    <tr>\n",
       "      <th>981833</th>\n",
       "      <td>58648_108</td>\n",
       "      <td>108</td>\n",
       "      <td>58648</td>\n",
       "      <td>Q9Y6R7</td>\n",
       "      <td>GATTSPGVYELSSR</td>\n",
       "      <td>12825.90</td>\n",
       "    </tr>\n",
       "  </tbody>\n",
       "</table>\n",
       "<p>981834 rows × 6 columns</p>\n",
       "</div>"
      ],
      "text/plain": [
       "         visit_id  visit_month  patient_id UniProt  \\\n",
       "0            55_0            0          55  O00391   \n",
       "1            55_0            0          55  O00533   \n",
       "2            55_0            0          55  O00533   \n",
       "3            55_0            0          55  O00533   \n",
       "4            55_0            0          55  O00533   \n",
       "...           ...          ...         ...     ...   \n",
       "981829  58648_108          108       58648  Q9UHG2   \n",
       "981830  58648_108          108       58648  Q9UKV8   \n",
       "981831  58648_108          108       58648  Q9Y646   \n",
       "981832  58648_108          108       58648  Q9Y6R7   \n",
       "981833  58648_108          108       58648  Q9Y6R7   \n",
       "\n",
       "                                       Peptide  PeptideAbundance  \n",
       "0                                NEQEQPLGQWHLS          11254.30  \n",
       "1                                  GNPEPTFSWTK         102060.00  \n",
       "2                              IEIPSSVQQVPTIIK         174185.00  \n",
       "3       KPQSAVYSTGSNGILLC(UniMod_4)EAEGEPQPTIK          27278.90  \n",
       "4                                 SMEQNGPGLEYR          30838.70  \n",
       "...                                        ...               ...  \n",
       "981829                         ILAGSADSEGVAAPR         202820.00  \n",
       "981830                           SGNIPAGTTVDTK         105830.00  \n",
       "981831                             LALLVDTVGPR          21257.60  \n",
       "981832        AGC(UniMod_4)VAESTAVC(UniMod_4)R           5127.26  \n",
       "981833                          GATTSPGVYELSSR          12825.90  \n",
       "\n",
       "[981834 rows x 6 columns]"
      ]
     },
     "execution_count": 2,
     "metadata": {},
     "output_type": "execute_result"
    }
   ],
   "source": [
    "input_pep = pd.read_csv(f\"{base_dir}/train_peptides.csv\")\n",
    "input_pep"
   ]
  },
  {
   "cell_type": "code",
   "execution_count": 3,
   "id": "dde375cf",
   "metadata": {
    "execution": {
     "iopub.execute_input": "2023-03-13T04:29:11.621734Z",
     "iopub.status.busy": "2023-03-13T04:29:11.621340Z",
     "iopub.status.idle": "2023-03-13T04:29:11.865083Z",
     "shell.execute_reply": "2023-03-13T04:29:11.863958Z"
    },
    "papermill": {
     "duration": 0.250503,
     "end_time": "2023-03-13T04:29:11.867628",
     "exception": false,
     "start_time": "2023-03-13T04:29:11.617125",
     "status": "completed"
    },
    "tags": []
   },
   "outputs": [
    {
     "data": {
      "text/html": [
       "<div>\n",
       "<style scoped>\n",
       "    .dataframe tbody tr th:only-of-type {\n",
       "        vertical-align: middle;\n",
       "    }\n",
       "\n",
       "    .dataframe tbody tr th {\n",
       "        vertical-align: top;\n",
       "    }\n",
       "\n",
       "    .dataframe thead th {\n",
       "        text-align: right;\n",
       "    }\n",
       "</style>\n",
       "<table border=\"1\" class=\"dataframe\">\n",
       "  <thead>\n",
       "    <tr style=\"text-align: right;\">\n",
       "      <th></th>\n",
       "      <th>visit_id</th>\n",
       "      <th>visit_month</th>\n",
       "      <th>patient_id</th>\n",
       "      <th>UniProt</th>\n",
       "      <th>NPX</th>\n",
       "    </tr>\n",
       "  </thead>\n",
       "  <tbody>\n",
       "    <tr>\n",
       "      <th>0</th>\n",
       "      <td>55_0</td>\n",
       "      <td>0</td>\n",
       "      <td>55</td>\n",
       "      <td>O00391</td>\n",
       "      <td>11254.3</td>\n",
       "    </tr>\n",
       "    <tr>\n",
       "      <th>1</th>\n",
       "      <td>55_0</td>\n",
       "      <td>0</td>\n",
       "      <td>55</td>\n",
       "      <td>O00533</td>\n",
       "      <td>732430.0</td>\n",
       "    </tr>\n",
       "    <tr>\n",
       "      <th>2</th>\n",
       "      <td>55_0</td>\n",
       "      <td>0</td>\n",
       "      <td>55</td>\n",
       "      <td>O00584</td>\n",
       "      <td>39585.8</td>\n",
       "    </tr>\n",
       "    <tr>\n",
       "      <th>3</th>\n",
       "      <td>55_0</td>\n",
       "      <td>0</td>\n",
       "      <td>55</td>\n",
       "      <td>O14498</td>\n",
       "      <td>41526.9</td>\n",
       "    </tr>\n",
       "    <tr>\n",
       "      <th>4</th>\n",
       "      <td>55_0</td>\n",
       "      <td>0</td>\n",
       "      <td>55</td>\n",
       "      <td>O14773</td>\n",
       "      <td>31238.0</td>\n",
       "    </tr>\n",
       "    <tr>\n",
       "      <th>...</th>\n",
       "      <td>...</td>\n",
       "      <td>...</td>\n",
       "      <td>...</td>\n",
       "      <td>...</td>\n",
       "      <td>...</td>\n",
       "    </tr>\n",
       "    <tr>\n",
       "      <th>232736</th>\n",
       "      <td>58648_108</td>\n",
       "      <td>108</td>\n",
       "      <td>58648</td>\n",
       "      <td>Q9UBX5</td>\n",
       "      <td>27387.8</td>\n",
       "    </tr>\n",
       "    <tr>\n",
       "      <th>232737</th>\n",
       "      <td>58648_108</td>\n",
       "      <td>108</td>\n",
       "      <td>58648</td>\n",
       "      <td>Q9UHG2</td>\n",
       "      <td>369437.0</td>\n",
       "    </tr>\n",
       "    <tr>\n",
       "      <th>232738</th>\n",
       "      <td>58648_108</td>\n",
       "      <td>108</td>\n",
       "      <td>58648</td>\n",
       "      <td>Q9UKV8</td>\n",
       "      <td>105830.0</td>\n",
       "    </tr>\n",
       "    <tr>\n",
       "      <th>232739</th>\n",
       "      <td>58648_108</td>\n",
       "      <td>108</td>\n",
       "      <td>58648</td>\n",
       "      <td>Q9Y646</td>\n",
       "      <td>21257.6</td>\n",
       "    </tr>\n",
       "    <tr>\n",
       "      <th>232740</th>\n",
       "      <td>58648_108</td>\n",
       "      <td>108</td>\n",
       "      <td>58648</td>\n",
       "      <td>Q9Y6R7</td>\n",
       "      <td>17953.1</td>\n",
       "    </tr>\n",
       "  </tbody>\n",
       "</table>\n",
       "<p>232741 rows × 5 columns</p>\n",
       "</div>"
      ],
      "text/plain": [
       "         visit_id  visit_month  patient_id UniProt       NPX\n",
       "0            55_0            0          55  O00391   11254.3\n",
       "1            55_0            0          55  O00533  732430.0\n",
       "2            55_0            0          55  O00584   39585.8\n",
       "3            55_0            0          55  O14498   41526.9\n",
       "4            55_0            0          55  O14773   31238.0\n",
       "...           ...          ...         ...     ...       ...\n",
       "232736  58648_108          108       58648  Q9UBX5   27387.8\n",
       "232737  58648_108          108       58648  Q9UHG2  369437.0\n",
       "232738  58648_108          108       58648  Q9UKV8  105830.0\n",
       "232739  58648_108          108       58648  Q9Y646   21257.6\n",
       "232740  58648_108          108       58648  Q9Y6R7   17953.1\n",
       "\n",
       "[232741 rows x 5 columns]"
      ]
     },
     "execution_count": 3,
     "metadata": {},
     "output_type": "execute_result"
    }
   ],
   "source": [
    "input_prot=pd.read_csv(f\"{base_dir}/train_proteins.csv\")\n",
    "input_prot"
   ]
  },
  {
   "cell_type": "code",
   "execution_count": 4,
   "id": "2432b8c0",
   "metadata": {
    "execution": {
     "iopub.execute_input": "2023-03-13T04:29:11.877219Z",
     "iopub.status.busy": "2023-03-13T04:29:11.876229Z",
     "iopub.status.idle": "2023-03-13T04:29:12.318869Z",
     "shell.execute_reply": "2023-03-13T04:29:12.317648Z"
    },
    "papermill": {
     "duration": 0.450099,
     "end_time": "2023-03-13T04:29:12.321484",
     "exception": false,
     "start_time": "2023-03-13T04:29:11.871385",
     "status": "completed"
    },
    "tags": []
   },
   "outputs": [],
   "source": [
    "data_df = pd.merge(input_pep, input_prot, on=[\"visit_id\",\"visit_month\",\"patient_id\",\"UniProt\"], how=\"left\")\n"
   ]
  },
  {
   "cell_type": "code",
   "execution_count": 5,
   "id": "a84b688c",
   "metadata": {
    "execution": {
     "iopub.execute_input": "2023-03-13T04:29:12.330516Z",
     "iopub.status.busy": "2023-03-13T04:29:12.330116Z",
     "iopub.status.idle": "2023-03-13T04:29:12.363606Z",
     "shell.execute_reply": "2023-03-13T04:29:12.362333Z"
    },
    "papermill": {
     "duration": 0.041976,
     "end_time": "2023-03-13T04:29:12.367125",
     "exception": false,
     "start_time": "2023-03-13T04:29:12.325149",
     "status": "completed"
    },
    "tags": []
   },
   "outputs": [
    {
     "name": "stdout",
     "output_type": "stream",
     "text": [
      "2615\n",
      "2223\n",
      "4838\n"
     ]
    }
   ],
   "source": [
    "train_base=pd.read_csv(f\"{base_dir}/train_clinical_data.csv\")\n",
    "print(len(train_base['visit_id']))\n",
    "other_base=pd.read_csv(f\"{base_dir}/supplemental_clinical_data.csv\")\n",
    "print(len(other_base['visit_id']))\n",
    "\n",
    "input_base=pd.concat((train_base,other_base),axis=0,ignore_index=True)\n",
    "print(len(input_base['visit_id']))"
   ]
  },
  {
   "cell_type": "code",
   "execution_count": 6,
   "id": "3278d4bb",
   "metadata": {
    "execution": {
     "iopub.execute_input": "2023-03-13T04:29:12.377083Z",
     "iopub.status.busy": "2023-03-13T04:29:12.376048Z",
     "iopub.status.idle": "2023-03-13T04:39:09.462773Z",
     "shell.execute_reply": "2023-03-13T04:39:09.461681Z"
    },
    "papermill": {
     "duration": 597.094369,
     "end_time": "2023-03-13T04:39:09.465496",
     "exception": false,
     "start_time": "2023-03-13T04:29:12.371127",
     "status": "completed"
    },
    "tags": []
   },
   "outputs": [
    {
     "name": "stdout",
     "output_type": "stream",
     "text": [
      "updating 3th row\r"
     ]
    },
    {
     "name": "stderr",
     "output_type": "stream",
     "text": [
      "/opt/conda/lib/python3.7/site-packages/ipykernel_launcher.py:6: SettingWithCopyWarning: \n",
      "A value is trying to be set on a copy of a slice from a DataFrame.\n",
      "Try using .loc[row_indexer,col_indexer] = value instead\n",
      "\n",
      "See the caveats in the documentation: https://pandas.pydata.org/pandas-docs/stable/user_guide/indexing.html#returning-a-view-versus-a-copy\n",
      "  \n",
      "/opt/conda/lib/python3.7/site-packages/ipykernel_launcher.py:7: SettingWithCopyWarning: \n",
      "A value is trying to be set on a copy of a slice from a DataFrame.\n",
      "Try using .loc[row_indexer,col_indexer] = value instead\n",
      "\n",
      "See the caveats in the documentation: https://pandas.pydata.org/pandas-docs/stable/user_guide/indexing.html#returning-a-view-versus-a-copy\n",
      "  import sys\n",
      "/opt/conda/lib/python3.7/site-packages/ipykernel_launcher.py:8: SettingWithCopyWarning: \n",
      "A value is trying to be set on a copy of a slice from a DataFrame.\n",
      "Try using .loc[row_indexer,col_indexer] = value instead\n",
      "\n",
      "See the caveats in the documentation: https://pandas.pydata.org/pandas-docs/stable/user_guide/indexing.html#returning-a-view-versus-a-copy\n",
      "  \n",
      "/opt/conda/lib/python3.7/site-packages/ipykernel_launcher.py:9: SettingWithCopyWarning: \n",
      "A value is trying to be set on a copy of a slice from a DataFrame.\n",
      "Try using .loc[row_indexer,col_indexer] = value instead\n",
      "\n",
      "See the caveats in the documentation: https://pandas.pydata.org/pandas-docs/stable/user_guide/indexing.html#returning-a-view-versus-a-copy\n",
      "  if __name__ == \"__main__\":\n",
      "/opt/conda/lib/python3.7/site-packages/ipykernel_launcher.py:10: SettingWithCopyWarning: \n",
      "A value is trying to be set on a copy of a slice from a DataFrame.\n",
      "Try using .loc[row_indexer,col_indexer] = value instead\n",
      "\n",
      "See the caveats in the documentation: https://pandas.pydata.org/pandas-docs/stable/user_guide/indexing.html#returning-a-view-versus-a-copy\n",
      "  # Remove the CWD from sys.path while we load stuff.\n"
     ]
    },
    {
     "name": "stdout",
     "output_type": "stream",
     "text": [
      "updating 4837th row\r"
     ]
    }
   ],
   "source": [
    "full_df= pd.DataFrame(columns=data_df.columns)\n",
    "for i,row in input_base.iterrows():\n",
    "#     print(row[\"visit_id\"])\n",
    "    print(f\"updating {i}th row\",flush=True,end=\"\\r\")\n",
    "    temp_df = data_df[data_df['visit_id'] == row[\"visit_id\"]]\n",
    "    temp_df[\"updrs_1\"] = row['updrs_1']\n",
    "    temp_df[\"updrs_2\"] = row['updrs_2']\n",
    "    temp_df[\"updrs_3\"] = row['updrs_3']\n",
    "    temp_df[\"updrs_4\"] = row['updrs_4']\n",
    "    temp_df[\"upd23b_clinical_state_on_medication\"] = row['upd23b_clinical_state_on_medication']\n",
    "    full_df = pd.concat((full_df,temp_df),axis=0,ignore_index=0)\n",
    "#     print(len(full_df[\"updrs_4\"]))\n",
    "\n",
    "\n",
    "    \n",
    "    "
   ]
  },
  {
   "cell_type": "code",
   "execution_count": 7,
   "id": "5a65fd32",
   "metadata": {
    "execution": {
     "iopub.execute_input": "2023-03-13T04:39:10.057859Z",
     "iopub.status.busy": "2023-03-13T04:39:10.057458Z",
     "iopub.status.idle": "2023-03-13T04:39:10.063039Z",
     "shell.execute_reply": "2023-03-13T04:39:10.061904Z"
    },
    "papermill": {
     "duration": 0.305433,
     "end_time": "2023-03-13T04:39:10.065968",
     "exception": false,
     "start_time": "2023-03-13T04:39:09.760535",
     "status": "completed"
    },
    "tags": []
   },
   "outputs": [
    {
     "name": "stdout",
     "output_type": "stream",
     "text": [
      "981834\n",
      "941744\n"
     ]
    }
   ],
   "source": [
    "print(len(data_df['visit_id']))\n",
    "print(len(full_df['visit_id']))"
   ]
  },
  {
   "cell_type": "code",
   "execution_count": 8,
   "id": "ad4c1788",
   "metadata": {
    "execution": {
     "iopub.execute_input": "2023-03-13T04:39:10.659503Z",
     "iopub.status.busy": "2023-03-13T04:39:10.659105Z",
     "iopub.status.idle": "2023-03-13T04:39:16.289252Z",
     "shell.execute_reply": "2023-03-13T04:39:16.288049Z"
    },
    "papermill": {
     "duration": 5.929347,
     "end_time": "2023-03-13T04:39:16.292149",
     "exception": false,
     "start_time": "2023-03-13T04:39:10.362802",
     "status": "completed"
    },
    "tags": []
   },
   "outputs": [],
   "source": [
    "full_df.to_csv(\"train.csv\")"
   ]
  },
  {
   "cell_type": "markdown",
   "id": "c8ca0466",
   "metadata": {
    "papermill": {
     "duration": 0.296907,
     "end_time": "2023-03-13T04:39:16.901299",
     "exception": false,
     "start_time": "2023-03-13T04:39:16.604392",
     "status": "completed"
    },
    "tags": []
   },
   "source": [
    "Load all data into df"
   ]
  }
 ],
 "metadata": {
  "kernelspec": {
   "display_name": "Python 3",
   "language": "python",
   "name": "python3"
  },
  "language_info": {
   "codemirror_mode": {
    "name": "ipython",
    "version": 3
   },
   "file_extension": ".py",
   "mimetype": "text/x-python",
   "name": "python",
   "nbconvert_exporter": "python",
   "pygments_lexer": "ipython3",
   "version": "3.7.12"
  },
  "papermill": {
   "default_parameters": {},
   "duration": 617.583649,
   "end_time": "2023-03-13T04:39:17.972038",
   "environment_variables": {},
   "exception": null,
   "input_path": "__notebook__.ipynb",
   "output_path": "__notebook__.ipynb",
   "parameters": {},
   "start_time": "2023-03-13T04:29:00.388389",
   "version": "2.4.0"
  }
 },
 "nbformat": 4,
 "nbformat_minor": 5
}
